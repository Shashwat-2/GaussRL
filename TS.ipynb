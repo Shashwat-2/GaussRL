{
 "cells": [
  {
   "cell_type": "code",
   "execution_count": 10,
   "id": "1d1887ba-94c0-4196-96e5-bba19cae3cb4",
   "metadata": {},
   "outputs": [],
   "source": [
    "import pandas as pd\n",
    "import numpy as np"
   ]
  },
  {
   "cell_type": "code",
   "execution_count": 5,
   "id": "01489cce-8cc3-4a98-9389-9affc9a9a57b",
   "metadata": {},
   "outputs": [
    {
     "name": "stdout",
     "output_type": "stream",
     "text": [
      "2020\n",
      "2015\n",
      "2010\n",
      "2005\n",
      "2000\n",
      "1995\n",
      "1990\n",
      "1985\n",
      "1980\n",
      "1975\n",
      "1970\n",
      "1965\n",
      "1960\n",
      "1955\n",
      "1950\n",
      "1945\n"
     ]
    }
   ],
   "source": [
    "# pd.read_excel('igrf13coeffs.xls', header=3)[2015].to_numpy()\n",
    "for i in range(2020,1945-5,-5):\n",
    "    print(i)"
   ]
  },
  {
   "cell_type": "code",
   "execution_count": null,
   "id": "5483701f-d15f-4a6d-a9be-2a1541549dab",
   "metadata": {},
   "outputs": [],
   "source": []
  }
 ],
 "metadata": {
  "kernelspec": {
   "display_name": "Python 3 (ipykernel)",
   "language": "python",
   "name": "python3"
  },
  "language_info": {
   "codemirror_mode": {
    "name": "ipython",
    "version": 3
   },
   "file_extension": ".py",
   "mimetype": "text/x-python",
   "name": "python",
   "nbconvert_exporter": "python",
   "pygments_lexer": "ipython3",
   "version": "3.10.16"
  }
 },
 "nbformat": 4,
 "nbformat_minor": 5
}
